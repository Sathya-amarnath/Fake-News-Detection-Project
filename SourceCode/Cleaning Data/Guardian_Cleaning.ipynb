{
 "cells": [
  {
   "cell_type": "code",
   "execution_count": 1,
   "metadata": {
    "collapsed": true
   },
   "outputs": [],
   "source": [
    "import zipfile\n",
    "import os\n",
    "import json\n",
    "from pprint import pprint\n",
    "import pandas as pd\n",
    "import numpy as np\n",
    "import matplotlib.pyplot as plt\n",
    "import re\n",
    "%matplotlib inline\n",
    "%config InlineBackend.figure_format = 'retina'"
   ]
  },
  {
   "cell_type": "code",
   "execution_count": 5,
   "metadata": {},
   "outputs": [],
   "source": [
    "# First file to start with\n",
    "df = pd.read_json(r\"C:\\Users\\srikar\\Desktop\\tmp\\articles\\2016-05-01.json\" , encoding='utf-8')"
   ]
  },
  {
   "cell_type": "code",
   "execution_count": 9,
   "metadata": {},
   "outputs": [
    {
     "name": "stdout",
     "output_type": "stream",
     "text": [
      "This is the  100 th file -->\n",
      "This is the  200 th file -->\n",
      "This is the  300 th file -->\n"
     ]
    }
   ],
   "source": [
    "# Combining all json files to a one data frame\n",
    "count = 0\n",
    "for filename in os.listdir(\"C:/Users/srikar/Desktop/tmp/articles\"):\n",
    "    count+=1\n",
    "    if count>2:\n",
    "        file_path = \"C:/Users/srikar/Desktop/tmp/articles/\" + filename\n",
    "        df_ = pd.read_json(file_path , encoding='utf-8')\n",
    "        df = pd.concat(objs= [df,df_], axis=0,ignore_index=True)\n",
    "        \n",
    "        # To see the progress, print the number of the file\n",
    "        if count%100 ==0:\n",
    "            print (\"This is the \",count,\"th file -->\")"
   ]
  },
  {
   "cell_type": "code",
   "execution_count": 10,
   "metadata": {
    "collapsed": true
   },
   "outputs": [],
   "source": [
    "# Getting bodytext from the dataframe\n",
    "lst = []\n",
    "for i in range(df.shape[0]):\n",
    "    lst.append(df.fields[i][\"bodyText\"])"
   ]
  },
  {
   "cell_type": "code",
   "execution_count": 11,
   "metadata": {
    "collapsed": true
   },
   "outputs": [],
   "source": [
    "# Creating a column with bodytext\n",
    "df[\"bodyText\"] = lst"
   ]
  },
  {
   "cell_type": "code",
   "execution_count": 12,
   "metadata": {
    "collapsed": true
   },
   "outputs": [],
   "source": [
    "# Getting headlines from the dataframe\n",
    "lst_head = []\n",
    "for i in range(df.shape[0]):\n",
    "        lst_head.append(df.fields[i][\"headline\"])"
   ]
  },
  {
   "cell_type": "code",
   "execution_count": 13,
   "metadata": {
    "collapsed": true
   },
   "outputs": [],
   "source": [
    "# Creating a column with headline\n",
    "df[\"headline\"] = lst_head"
   ]
  },
  {
   "cell_type": "code",
   "execution_count": 14,
   "metadata": {
    "collapsed": true
   },
   "outputs": [],
   "source": [
    "# Getting rid of the embty bodies\n",
    "df = df[df.bodyText != \"\"]"
   ]
  },
  {
   "cell_type": "code",
   "execution_count": 15,
   "metadata": {},
   "outputs": [
    {
     "data": {
      "text/plain": [
       "(91019, 14)"
      ]
     },
     "execution_count": 15,
     "metadata": {},
     "output_type": "execute_result"
    }
   ],
   "source": [
    "# Total Number of Articles\n",
    "df.shape"
   ]
  },
  {
   "cell_type": "code",
   "execution_count": 16,
   "metadata": {
    "collapsed": true
   },
   "outputs": [],
   "source": [
    "# Filtering articles based on topics\n",
    "df = df[(df.sectionName == 'US news') | (df.sectionName == 'Business') | (df.sectionName == 'Politics') | (df.sectionName == 'World news')]"
   ]
  },
  {
   "cell_type": "code",
   "execution_count": 17,
   "metadata": {},
   "outputs": [
    {
     "name": "stdout",
     "output_type": "stream",
     "text": [
      "<class 'pandas.core.frame.DataFrame'>\n",
      "Int64Index: 19998 entries, 5 to 92371\n",
      "Data columns (total 14 columns):\n",
      "apiUrl                19998 non-null object\n",
      "fields                19998 non-null object\n",
      "id                    19998 non-null object\n",
      "isHosted              19998 non-null bool\n",
      "pillarId              19998 non-null object\n",
      "pillarName            19998 non-null object\n",
      "sectionId             19998 non-null object\n",
      "sectionName           19998 non-null object\n",
      "type                  19998 non-null object\n",
      "webPublicationDate    19998 non-null object\n",
      "webTitle              19998 non-null object\n",
      "webUrl                19998 non-null object\n",
      "bodyText              19998 non-null object\n",
      "headline              19998 non-null object\n",
      "dtypes: bool(1), object(13)\n",
      "memory usage: 2.2+ MB\n"
     ]
    }
   ],
   "source": [
    "# Getting to see the dataframe info (data type, non-null value etc.)\n",
    "df.info()"
   ]
  },
  {
   "cell_type": "code",
   "execution_count": 19,
   "metadata": {},
   "outputs": [
    {
     "data": {
      "text/plain": [
       "Counter({'Business': 4222,\n",
       "         'Politics': 4434,\n",
       "         'US news': 4873,\n",
       "         'World news': 6469})"
      ]
     },
     "execution_count": 19,
     "metadata": {},
     "output_type": "execute_result"
    }
   ],
   "source": [
    "# To see how many articles in each category\n",
    "from collections import Counter\n",
    "Counter(df.sectionName)"
   ]
  },
  {
   "cell_type": "code",
   "execution_count": 20,
   "metadata": {},
   "outputs": [
    {
     "data": {
      "text/html": [
       "<div>\n",
       "<style>\n",
       "    .dataframe thead tr:only-child th {\n",
       "        text-align: right;\n",
       "    }\n",
       "\n",
       "    .dataframe thead th {\n",
       "        text-align: left;\n",
       "    }\n",
       "\n",
       "    .dataframe tbody tr th {\n",
       "        vertical-align: top;\n",
       "    }\n",
       "</style>\n",
       "<table border=\"1\" class=\"dataframe\">\n",
       "  <thead>\n",
       "    <tr style=\"text-align: right;\">\n",
       "      <th></th>\n",
       "      <th>apiUrl</th>\n",
       "      <th>fields</th>\n",
       "      <th>id</th>\n",
       "      <th>isHosted</th>\n",
       "      <th>pillarId</th>\n",
       "      <th>pillarName</th>\n",
       "      <th>sectionId</th>\n",
       "      <th>sectionName</th>\n",
       "      <th>type</th>\n",
       "      <th>webPublicationDate</th>\n",
       "      <th>webTitle</th>\n",
       "      <th>webUrl</th>\n",
       "      <th>bodyText</th>\n",
       "      <th>headline</th>\n",
       "    </tr>\n",
       "  </thead>\n",
       "  <tbody>\n",
       "    <tr>\n",
       "      <th>5</th>\n",
       "      <td>https://content.guardianapis.com/business/2016...</td>\n",
       "      <td>{'headline': 'English businesses 'should be fo...</td>\n",
       "      <td>business/2016/may/02/english-businesses-should...</td>\n",
       "      <td>False</td>\n",
       "      <td>pillar/news</td>\n",
       "      <td>News</td>\n",
       "      <td>business</td>\n",
       "      <td>Business</td>\n",
       "      <td>article</td>\n",
       "      <td>2016-05-01T23:01:08Z</td>\n",
       "      <td>English businesses 'should be forced to show h...</td>\n",
       "      <td>https://www.theguardian.com/business/2016/may/...</td>\n",
       "      <td>All premises in England that sell food should ...</td>\n",
       "      <td>English businesses 'should be forced to show h...</td>\n",
       "    </tr>\n",
       "    <tr>\n",
       "      <th>6</th>\n",
       "      <td>https://content.guardianapis.com/business/2016...</td>\n",
       "      <td>{'headline': 'Tips should go to workers, not e...</td>\n",
       "      <td>business/2016/may/02/tips-should-go-to-workers...</td>\n",
       "      <td>False</td>\n",
       "      <td>pillar/news</td>\n",
       "      <td>News</td>\n",
       "      <td>business</td>\n",
       "      <td>Business</td>\n",
       "      <td>article</td>\n",
       "      <td>2016-05-01T23:01:07Z</td>\n",
       "      <td>Tips should go to workers, not employers, says...</td>\n",
       "      <td>https://www.theguardian.com/business/2016/may/...</td>\n",
       "      <td>Tips in restaurants, hotels and bars should go...</td>\n",
       "      <td>Tips should go to workers, not employers, says...</td>\n",
       "    </tr>\n",
       "    <tr>\n",
       "      <th>14</th>\n",
       "      <td>https://content.guardianapis.com/politics/blog...</td>\n",
       "      <td>{'headline': 'Sturgeon accused of breaking ind...</td>\n",
       "      <td>politics/blog/live/2016/may/01/scottish-electi...</td>\n",
       "      <td>False</td>\n",
       "      <td>pillar/news</td>\n",
       "      <td>News</td>\n",
       "      <td>politics</td>\n",
       "      <td>Politics</td>\n",
       "      <td>liveblog</td>\n",
       "      <td>2016-05-01T21:51:50Z</td>\n",
       "      <td>Sturgeon accused of breaking independence prom...</td>\n",
       "      <td>https://www.theguardian.com/politics/blog/live...</td>\n",
       "      <td>Election debates are more common in Holyrood p...</td>\n",
       "      <td>Sturgeon accused of breaking independence prom...</td>\n",
       "    </tr>\n",
       "    <tr>\n",
       "      <th>15</th>\n",
       "      <td>https://content.guardianapis.com/politics/2016...</td>\n",
       "      <td>{'headline': 'Second Scottish independence vot...</td>\n",
       "      <td>politics/2016/may/01/scottish-independence-vot...</td>\n",
       "      <td>False</td>\n",
       "      <td>pillar/news</td>\n",
       "      <td>News</td>\n",
       "      <td>politics</td>\n",
       "      <td>Politics</td>\n",
       "      <td>article</td>\n",
       "      <td>2016-05-01T21:40:37Z</td>\n",
       "      <td>Second Scottish independence vote not yet on t...</td>\n",
       "      <td>https://www.theguardian.com/politics/2016/may/...</td>\n",
       "      <td>Nicola Sturgeon has said a second independence...</td>\n",
       "      <td>Second Scottish independence vote not yet on t...</td>\n",
       "    </tr>\n",
       "    <tr>\n",
       "      <th>24</th>\n",
       "      <td>https://content.guardianapis.com/us-news/2016/...</td>\n",
       "      <td>{'headline': 'Bernie Sanders vows a contested ...</td>\n",
       "      <td>us-news/2016/may/01/bernie-sanders-contested-c...</td>\n",
       "      <td>False</td>\n",
       "      <td>pillar/news</td>\n",
       "      <td>News</td>\n",
       "      <td>us-news</td>\n",
       "      <td>US news</td>\n",
       "      <td>article</td>\n",
       "      <td>2016-05-01T21:16:57Z</td>\n",
       "      <td>Bernie Sanders vows a contested convention des...</td>\n",
       "      <td>https://www.theguardian.com/us-news/2016/may/0...</td>\n",
       "      <td>Bernie Sanders acknowledged “an uphill climb” ...</td>\n",
       "      <td>Bernie Sanders vows a contested convention des...</td>\n",
       "    </tr>\n",
       "  </tbody>\n",
       "</table>\n",
       "</div>"
      ],
      "text/plain": [
       "                                               apiUrl  \\\n",
       "5   https://content.guardianapis.com/business/2016...   \n",
       "6   https://content.guardianapis.com/business/2016...   \n",
       "14  https://content.guardianapis.com/politics/blog...   \n",
       "15  https://content.guardianapis.com/politics/2016...   \n",
       "24  https://content.guardianapis.com/us-news/2016/...   \n",
       "\n",
       "                                               fields  \\\n",
       "5   {'headline': 'English businesses 'should be fo...   \n",
       "6   {'headline': 'Tips should go to workers, not e...   \n",
       "14  {'headline': 'Sturgeon accused of breaking ind...   \n",
       "15  {'headline': 'Second Scottish independence vot...   \n",
       "24  {'headline': 'Bernie Sanders vows a contested ...   \n",
       "\n",
       "                                                   id  isHosted     pillarId  \\\n",
       "5   business/2016/may/02/english-businesses-should...     False  pillar/news   \n",
       "6   business/2016/may/02/tips-should-go-to-workers...     False  pillar/news   \n",
       "14  politics/blog/live/2016/may/01/scottish-electi...     False  pillar/news   \n",
       "15  politics/2016/may/01/scottish-independence-vot...     False  pillar/news   \n",
       "24  us-news/2016/may/01/bernie-sanders-contested-c...     False  pillar/news   \n",
       "\n",
       "   pillarName sectionId sectionName      type    webPublicationDate  \\\n",
       "5        News  business    Business   article  2016-05-01T23:01:08Z   \n",
       "6        News  business    Business   article  2016-05-01T23:01:07Z   \n",
       "14       News  politics    Politics  liveblog  2016-05-01T21:51:50Z   \n",
       "15       News  politics    Politics   article  2016-05-01T21:40:37Z   \n",
       "24       News   us-news     US news   article  2016-05-01T21:16:57Z   \n",
       "\n",
       "                                             webTitle  \\\n",
       "5   English businesses 'should be forced to show h...   \n",
       "6   Tips should go to workers, not employers, says...   \n",
       "14  Sturgeon accused of breaking independence prom...   \n",
       "15  Second Scottish independence vote not yet on t...   \n",
       "24  Bernie Sanders vows a contested convention des...   \n",
       "\n",
       "                                               webUrl  \\\n",
       "5   https://www.theguardian.com/business/2016/may/...   \n",
       "6   https://www.theguardian.com/business/2016/may/...   \n",
       "14  https://www.theguardian.com/politics/blog/live...   \n",
       "15  https://www.theguardian.com/politics/2016/may/...   \n",
       "24  https://www.theguardian.com/us-news/2016/may/0...   \n",
       "\n",
       "                                             bodyText  \\\n",
       "5   All premises in England that sell food should ...   \n",
       "6   Tips in restaurants, hotels and bars should go...   \n",
       "14  Election debates are more common in Holyrood p...   \n",
       "15  Nicola Sturgeon has said a second independence...   \n",
       "24  Bernie Sanders acknowledged “an uphill climb” ...   \n",
       "\n",
       "                                             headline  \n",
       "5   English businesses 'should be forced to show h...  \n",
       "6   Tips should go to workers, not employers, says...  \n",
       "14  Sturgeon accused of breaking independence prom...  \n",
       "15  Second Scottish independence vote not yet on t...  \n",
       "24  Bernie Sanders vows a contested convention des...  "
      ]
     },
     "execution_count": 20,
     "metadata": {},
     "output_type": "execute_result"
    }
   ],
   "source": [
    "# Overview for the dataframe\n",
    "df.head()"
   ]
  },
  {
   "cell_type": "code",
   "execution_count": 21,
   "metadata": {},
   "outputs": [
    {
     "data": {
      "text/plain": [
       "('2016-05-01T00:54:45Z', '2017-03-27T22:26:20Z')"
      ]
     },
     "execution_count": 21,
     "metadata": {},
     "output_type": "execute_result"
    }
   ],
   "source": [
    "# Publication data range\n",
    "df.webPublicationDate.min() ,df.webPublicationDate.max()"
   ]
  },
  {
   "cell_type": "code",
   "execution_count": 23,
   "metadata": {},
   "outputs": [
    {
     "name": "stdout",
     "output_type": "stream",
     "text": [
      "Here is the  0 th item\n",
      "Here is the  500 th item\n",
      "Here is the  1000 th item\n",
      "Here is the  1500 th item\n",
      "Here is the  2000 th item\n",
      "Here is the  2500 th item\n",
      "Here is the  3000 th item\n",
      "Here is the  3500 th item\n",
      "Here is the  4000 th item\n",
      "Here is the  4500 th item\n",
      "Here is the  5000 th item\n",
      "Here is the  5500 th item\n",
      "Here is the  6000 th item\n",
      "Here is the  6500 th item\n",
      "Here is the  7000 th item\n",
      "Here is the  7500 th item\n",
      "Here is the  8000 th item\n",
      "Here is the  8500 th item\n",
      "Here is the  9000 th item\n",
      "Here is the  9500 th item\n",
      "Here is the  10000 th item\n",
      "Here is the  10500 th item\n",
      "Here is the  11000 th item\n",
      "Here is the  11500 th item\n",
      "Here is the  12000 th item\n",
      "Here is the  12500 th item\n",
      "Here is the  13000 th item\n",
      "Here is the  13500 th item\n",
      "Here is the  14000 th item\n",
      "Here is the  14500 th item\n",
      "Here is the  15000 th item\n",
      "Here is the  15500 th item\n",
      "Here is the  16000 th item\n",
      "Here is the  16500 th item\n",
      "Here is the  17000 th item\n",
      "Here is the  17500 th item\n",
      "Here is the  18000 th item\n",
      "Here is the  18500 th item\n",
      "Here is the  19000 th item\n",
      "Here is the  19500 th item\n"
     ]
    }
   ],
   "source": [
    "for idx,item in enumerate(df.bodyText):\n",
    "    df.bodyText[idx] = re.sub('[^\\x00-\\x7F]+', \"\", item)\n",
    "    if idx%500 == 0:\n",
    "        print ('Here is the ',idx,'th item')"
   ]
  },
  {
   "cell_type": "code",
   "execution_count": 24,
   "metadata": {},
   "outputs": [
    {
     "name": "stdout",
     "output_type": "stream",
     "text": [
      "Here is the  0 th item\n",
      "Here is the  500 th item\n",
      "Here is the  1000 th item\n",
      "Here is the  1500 th item\n",
      "Here is the  2000 th item\n",
      "Here is the  2500 th item\n",
      "Here is the  3000 th item\n",
      "Here is the  3500 th item\n",
      "Here is the  4000 th item\n",
      "Here is the  4500 th item\n",
      "Here is the  5000 th item\n",
      "Here is the  5500 th item\n",
      "Here is the  6000 th item\n",
      "Here is the  6500 th item\n",
      "Here is the  7000 th item\n",
      "Here is the  7500 th item\n",
      "Here is the  8000 th item\n",
      "Here is the  8500 th item\n",
      "Here is the  9000 th item\n",
      "Here is the  9500 th item\n",
      "Here is the  10000 th item\n",
      "Here is the  10500 th item\n",
      "Here is the  11000 th item\n",
      "Here is the  11500 th item\n",
      "Here is the  12000 th item\n",
      "Here is the  12500 th item\n",
      "Here is the  13000 th item\n",
      "Here is the  13500 th item\n",
      "Here is the  14000 th item\n",
      "Here is the  14500 th item\n",
      "Here is the  15000 th item\n",
      "Here is the  15500 th item\n",
      "Here is the  16000 th item\n",
      "Here is the  16500 th item\n",
      "Here is the  17000 th item\n",
      "Here is the  17500 th item\n",
      "Here is the  18000 th item\n",
      "Here is the  18500 th item\n",
      "Here is the  19000 th item\n",
      "Here is the  19500 th item\n"
     ]
    }
   ],
   "source": [
    "for idx,item in enumerate(df.headline):\n",
    "    df.headline[idx] = re.sub('[^\\x00-\\x7F]+', \"\", item)\n",
    "    if idx%500 == 0:\n",
    "        print('Here is the ',idx,'th item') "
   ]
  },
  {
   "cell_type": "code",
   "execution_count": 25,
   "metadata": {},
   "outputs": [
    {
     "name": "stdout",
     "output_type": "stream",
     "text": [
      "Here is the  0 th item\n",
      "Here is the  500 th item\n",
      "Here is the  1000 th item\n",
      "Here is the  1500 th item\n",
      "Here is the  2000 th item\n",
      "Here is the  2500 th item\n",
      "Here is the  3000 th item\n",
      "Here is the  3500 th item\n",
      "Here is the  4000 th item\n",
      "Here is the  4500 th item\n",
      "Here is the  5000 th item\n",
      "Here is the  5500 th item\n",
      "Here is the  6000 th item\n",
      "Here is the  6500 th item\n",
      "Here is the  7000 th item\n",
      "Here is the  7500 th item\n",
      "Here is the  8000 th item\n",
      "Here is the  8500 th item\n",
      "Here is the  9000 th item\n",
      "Here is the  9500 th item\n",
      "Here is the  10000 th item\n",
      "Here is the  10500 th item\n",
      "Here is the  11000 th item\n",
      "Here is the  11500 th item\n",
      "Here is the  12000 th item\n",
      "Here is the  12500 th item\n",
      "Here is the  13000 th item\n",
      "Here is the  13500 th item\n",
      "Here is the  14000 th item\n",
      "Here is the  14500 th item\n",
      "Here is the  15000 th item\n",
      "Here is the  15500 th item\n",
      "Here is the  16000 th item\n",
      "Here is the  16500 th item\n",
      "Here is the  17000 th item\n",
      "Here is the  17500 th item\n",
      "Here is the  18000 th item\n",
      "Here is the  18500 th item\n",
      "Here is the  19000 th item\n",
      "Here is the  19500 th item\n",
      "Here is the  20000 th item\n",
      "Here is the  20500 th item\n",
      "Here is the  21000 th item\n",
      "Here is the  21500 th item\n",
      "Here is the  22000 th item\n",
      "Here is the  22500 th item\n",
      "Here is the  23000 th item\n",
      "Here is the  23500 th item\n",
      "Here is the  24000 th item\n",
      "Here is the  24500 th item\n",
      "Here is the  25000 th item\n",
      "Here is the  25500 th item\n",
      "Here is the  26000 th item\n",
      "Here is the  26500 th item\n",
      "Here is the  27000 th item\n",
      "Here is the  27500 th item\n",
      "Here is the  28000 th item\n",
      "Here is the  28500 th item\n",
      "Here is the  29000 th item\n",
      "Here is the  29500 th item\n",
      "Here is the  30000 th item\n",
      "Here is the  30500 th item\n",
      "Here is the  31000 th item\n",
      "Here is the  31500 th item\n",
      "Here is the  32000 th item\n",
      "Here is the  32500 th item\n",
      "Here is the  33000 th item\n",
      "Here is the  33500 th item\n",
      "Here is the  34000 th item\n",
      "Here is the  34500 th item\n",
      "Here is the  35000 th item\n",
      "Here is the  35500 th item\n"
     ]
    }
   ],
   "source": [
    "for idx, item in enumerate(df.bodyText):\n",
    "    df.bodyText[idx] = re.sub('(\\\\n)',\"\",item)\n",
    "    if idx%500 == 0:\n",
    "        print ('Here is the ',idx,'th item')"
   ]
  },
  {
   "cell_type": "code",
   "execution_count": 26,
   "metadata": {},
   "outputs": [
    {
     "name": "stdout",
     "output_type": "stream",
     "text": [
      "Here is the  0 th item\n",
      "Here is the  500 th item\n",
      "Here is the  1000 th item\n",
      "Here is the  1500 th item\n",
      "Here is the  2000 th item\n",
      "Here is the  2500 th item\n",
      "Here is the  3000 th item\n",
      "Here is the  3500 th item\n",
      "Here is the  4000 th item\n",
      "Here is the  4500 th item\n",
      "Here is the  5000 th item\n",
      "Here is the  5500 th item\n",
      "Here is the  6000 th item\n",
      "Here is the  6500 th item\n",
      "Here is the  7000 th item\n",
      "Here is the  7500 th item\n",
      "Here is the  8000 th item\n",
      "Here is the  8500 th item\n",
      "Here is the  9000 th item\n",
      "Here is the  9500 th item\n",
      "Here is the  10000 th item\n",
      "Here is the  10500 th item\n",
      "Here is the  11000 th item\n",
      "Here is the  11500 th item\n",
      "Here is the  12000 th item\n",
      "Here is the  12500 th item\n",
      "Here is the  13000 th item\n",
      "Here is the  13500 th item\n",
      "Here is the  14000 th item\n",
      "Here is the  14500 th item\n",
      "Here is the  15000 th item\n",
      "Here is the  15500 th item\n",
      "Here is the  16000 th item\n",
      "Here is the  16500 th item\n",
      "Here is the  17000 th item\n",
      "Here is the  17500 th item\n",
      "Here is the  18000 th item\n",
      "Here is the  18500 th item\n",
      "Here is the  19000 th item\n",
      "Here is the  19500 th item\n",
      "Here is the  20000 th item\n",
      "Here is the  20500 th item\n",
      "Here is the  21000 th item\n",
      "Here is the  21500 th item\n",
      "Here is the  22000 th item\n",
      "Here is the  22500 th item\n",
      "Here is the  23000 th item\n",
      "Here is the  23500 th item\n",
      "Here is the  24000 th item\n",
      "Here is the  24500 th item\n",
      "Here is the  25000 th item\n",
      "Here is the  25500 th item\n",
      "Here is the  26000 th item\n",
      "Here is the  26500 th item\n",
      "Here is the  27000 th item\n",
      "Here is the  27500 th item\n",
      "Here is the  28000 th item\n",
      "Here is the  28500 th item\n",
      "Here is the  29000 th item\n",
      "Here is the  29500 th item\n",
      "Here is the  30000 th item\n",
      "Here is the  30500 th item\n",
      "Here is the  31000 th item\n",
      "Here is the  31500 th item\n",
      "Here is the  32000 th item\n",
      "Here is the  32500 th item\n",
      "Here is the  33000 th item\n",
      "Here is the  33500 th item\n",
      "Here is the  34000 th item\n",
      "Here is the  34500 th item\n",
      "Here is the  35000 th item\n",
      "Here is the  35500 th item\n"
     ]
    }
   ],
   "source": [
    "for idx, item in enumerate(df.headline):\n",
    "    df.headline[idx] = re.sub('(\\\\n)',\"\",item)\n",
    "    if idx%500 == 0:\n",
    "        print ('Here is the ',idx,'th item')"
   ]
  },
  {
   "cell_type": "code",
   "execution_count": 27,
   "metadata": {
    "collapsed": true
   },
   "outputs": [],
   "source": [
    "# Saving the cleaned data into csv file\n",
    "df.to_csv(r\"C:\\Users\\srikar\\Desktop\\Clean_TheGuardian_Combined_No_Slash.csv\")"
   ]
  },
  {
   "cell_type": "code",
   "execution_count": 48,
   "metadata": {},
   "outputs": [
    {
     "name": "stdout",
     "output_type": "stream",
     "text": [
      "<class 'pandas.core.frame.DataFrame'>\n",
      "Int64Index: 19998 entries, 5 to 92371\n",
      "Data columns (total 14 columns):\n",
      "apiUrl                19998 non-null object\n",
      "fields                19998 non-null object\n",
      "id                    19998 non-null object\n",
      "isHosted              19998 non-null bool\n",
      "pillarId              19998 non-null object\n",
      "pillarName            19998 non-null object\n",
      "sectionId             19998 non-null object\n",
      "sectionName           19998 non-null object\n",
      "type                  19998 non-null object\n",
      "webPublicationDate    19998 non-null object\n",
      "webTitle              19998 non-null object\n",
      "webUrl                19998 non-null object\n",
      "bodyText              19998 non-null object\n",
      "headline              19998 non-null object\n",
      "dtypes: bool(1), object(13)\n",
      "memory usage: 3.2+ MB\n"
     ]
    }
   ],
   "source": [
    "df.info()"
   ]
  },
  {
   "cell_type": "code",
   "execution_count": 53,
   "metadata": {},
   "outputs": [],
   "source": [
    "sum_ = 0\n",
    "max_ = 0\n",
    "min_ = 9999\n",
    "for item in df.bodyText:\n",
    "    sum_+=len(item)\n",
    "    if (len(item) > max_):\n",
    "        max_ = len(item)\n",
    "    if (len(item) < min_):\n",
    "        min_ = len(item)"
   ]
  },
  {
   "cell_type": "code",
   "execution_count": 54,
   "metadata": {},
   "outputs": [
    {
     "name": "stdout",
     "output_type": "stream",
     "text": [
      "Min number of word count 57 \n",
      "Max number of word count 147562 \n",
      "Total number of word count 283686016\n"
     ]
    }
   ],
   "source": [
    "print (\"Min number of word count\",min_ ,\"\\nMax number of word count\",max_,\"\\nTotal number of word count\", sum_)"
   ]
  },
  {
   "cell_type": "code",
   "execution_count": null,
   "metadata": {
    "collapsed": true
   },
   "outputs": [],
   "source": []
  },
  {
   "cell_type": "code",
   "execution_count": null,
   "metadata": {
    "collapsed": true
   },
   "outputs": [],
   "source": []
  },
  {
   "cell_type": "code",
   "execution_count": null,
   "metadata": {
    "collapsed": true
   },
   "outputs": [],
   "source": []
  }
 ],
 "metadata": {
  "kernelspec": {
   "display_name": "Python 3",
   "language": "python",
   "name": "python3"
  },
  "language_info": {
   "codemirror_mode": {
    "name": "ipython",
    "version": 3
   },
   "file_extension": ".py",
   "mimetype": "text/x-python",
   "name": "python",
   "nbconvert_exporter": "python",
   "pygments_lexer": "ipython3",
   "version": "3.6.3"
  }
 },
 "nbformat": 4,
 "nbformat_minor": 2
}
